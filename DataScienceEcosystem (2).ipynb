{
 "cells": [
  {
   "cell_type": "markdown",
   "id": "d3fc3ab4-ab0d-4749-af2a-9531ad4ab164",
   "metadata": {},
   "source": [
    "# Data Science Tools and Ecosystem"
   ]
  },
  {
   "cell_type": "markdown",
   "id": "8a688f11-52fd-4e81-b5b6-a0fb789e51bd",
   "metadata": {},
   "source": [
    "### In this notebook, Data Science Tools and Ecosystem are summarized."
   ]
  },
  {
   "cell_type": "markdown",
   "id": "288c62d1-cc4c-4743-b72b-50224e0c04bd",
   "metadata": {},
   "source": [
    "Some of the popular languages that Data Scientists use are:\n",
    "* Python\n",
    "* R\n",
    "* SQL"
   ]
  },
  {
   "cell_type": "markdown",
   "id": "55db97e7-c7d1-470d-9575-cdaa693d9100",
   "metadata": {},
   "source": [
    "Some of the commonly used libraries used by Data Scientists include:\n",
    "* Numpy\n",
    "* Pandas\n",
    "* Matplotlib\n",
    "* Seaborn\n",
    "* Py Torch\n",
    "* Scikit-learn\n",
    "* Keras"
   ]
  },
  {
   "cell_type": "markdown",
   "id": "5d41612b-bdb9-44db-acad-167595f79603",
   "metadata": {},
   "source": [
    "Data Science Tools |\n",
    "------------------\n",
    "Jupyter Notebook   |\n",
    "RStudio            |\n",
    "Apache Zeppelin    | "
   ]
  },
  {
   "cell_type": "markdown",
   "id": "1ad5aed2-d56b-47fb-94e4-af763f08be9a",
   "metadata": {},
   "source": [
    "### Below are a few examples of evaluating arithmetic expressions in Python"
   ]
  },
  {
   "cell_type": "code",
   "execution_count": 25,
   "id": "d04d1a74-ce66-454e-81c6-026bca8e2ea8",
   "metadata": {},
   "outputs": [
    {
     "data": {
      "text/plain": [
       "24"
      ]
     },
     "execution_count": 25,
     "metadata": {},
     "output_type": "execute_result"
    }
   ],
   "source": [
    "12 * 2"
   ]
  },
  {
   "cell_type": "code",
   "execution_count": 27,
   "id": "dee17eb8-2842-4622-aa9e-e2ddb4b1b036",
   "metadata": {},
   "outputs": [
    {
     "data": {
      "text/plain": [
       "27"
      ]
     },
     "execution_count": 27,
     "metadata": {},
     "output_type": "execute_result"
    }
   ],
   "source": [
    "12 + 15"
   ]
  },
  {
   "cell_type": "code",
   "execution_count": 1,
   "id": "ce91a13e-b34f-4172-a15e-ca9b4041a2e5",
   "metadata": {
    "tags": []
   },
   "outputs": [
    {
     "data": {
      "text/plain": [
       "17"
      ]
     },
     "execution_count": 1,
     "metadata": {},
     "output_type": "execute_result"
    }
   ],
   "source": [
    "(3*4)+5"
   ]
  },
  {
   "cell_type": "markdown",
   "id": "573d65dd-51ec-46d9-8fb1-a96dcb895b53",
   "metadata": {},
   "source": [
    "### Create a code cell to convert minutes to hours"
   ]
  },
  {
   "cell_type": "code",
   "execution_count": 2,
   "id": "7b8585ec-099b-4854-bd58-0bf08927a937",
   "metadata": {
    "tags": []
   },
   "outputs": [],
   "source": [
    "minutes = 200\n"
   ]
  },
  {
   "cell_type": "code",
   "execution_count": 12,
   "id": "4485dd34-4062-4c57-906e-f80362be34a9",
   "metadata": {
    "tags": []
   },
   "outputs": [],
   "source": [
    "hours = int(minutes)/60"
   ]
  },
  {
   "cell_type": "code",
   "execution_count": 10,
   "id": "49977768-a881-4ccc-8863-b7bcc6c61f84",
   "metadata": {
    "tags": []
   },
   "outputs": [
    {
     "name": "stdout",
     "output_type": "stream",
     "text": [
      "3.3333333333333335\n"
     ]
    }
   ],
   "source": [
    "print(hours)"
   ]
  },
  {
   "cell_type": "markdown",
   "id": "71f7e3f8-2b92-4462-9dd6-ac7ab6086311",
   "metadata": {},
   "source": [
    "#### Objectives:\n",
    "* List popular languages for Data Science\n",
    "* Some of the commonly used libraries used by Data Scientists\n",
    "* Data Science Tools\n",
    "* Convert from minutes to hours\n"
   ]
  },
  {
   "cell_type": "markdown",
   "id": "f5ddbf83-e1f9-4914-8b38-82bc2d4bc11b",
   "metadata": {},
   "source": [
    "## Author"
   ]
  },
  {
   "cell_type": "markdown",
   "id": "07f16708-a4ec-423a-bd61-880e2146e05d",
   "metadata": {},
   "source": [
    "Jolayemi Babatunde"
   ]
  },
  {
   "cell_type": "code",
   "execution_count": null,
   "id": "2f823bd7-e66c-4130-a35a-e488166fdd3a",
   "metadata": {},
   "outputs": [],
   "source": []
  }
 ],
 "metadata": {
  "kernelspec": {
   "display_name": "Python",
   "language": "python",
   "name": "conda-env-python-py"
  },
  "language_info": {
   "codemirror_mode": {
    "name": "ipython",
    "version": 3
   },
   "file_extension": ".py",
   "mimetype": "text/x-python",
   "name": "python",
   "nbconvert_exporter": "python",
   "pygments_lexer": "ipython3",
   "version": "3.7.12"
  }
 },
 "nbformat": 4,
 "nbformat_minor": 5
}
