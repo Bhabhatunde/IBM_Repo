{
 "cells": [
  {
   "cell_type": "markdown",
   "id": "d3fc3ab4-ab0d-4749-af2a-9531ad4ab164",
   "metadata": {},
   "source": [
    "# Data Science Tools and Ecosystem"
   ]
  },
  {
   "cell_type": "markdown",
   "id": "8a688f11-52fd-4e81-b5b6-a0fb789e51bd",
   "metadata": {},
   "source": [
    "### In this notebook, Data Science Tools and Ecosystem are summarized."
   ]
  },
  {
   "cell_type": "markdown",
   "id": "288c62d1-cc4c-4743-b72b-50224e0c04bd",
   "metadata": {},
   "source": [
    "Some of the popular languages that Data Scientists use are:\n",
    "* Python\n",
    "* R\n",
    "* SQL"
   ]
  },
  {
   "cell_type": "markdown",
   "id": "55db97e7-c7d1-470d-9575-cdaa693d9100",
   "metadata": {},
   "source": [
    "Some of the commonly used libraries used by Data Scientists include:\n",
    "* Numpy\n",
    "* Pandas\n",
    "* Matplotlib\n",
    "* Seaborn\n",
    "* Py Torch\n",
    "* Scikit-learn\n",
    "* Keras"
   ]
  },
  {
   "cell_type": "markdown",
   "id": "5d41612b-bdb9-44db-acad-167595f79603",
   "metadata": {},
   "source": [
    "Data Science Tools |\n",
    "------------------\n",
    "Jupyter Notebook   |\n",
    "RStudio            |\n",
    "Apache Zeppelin    | "
   ]
  },
  {
   "cell_type": "markdown",
   "id": "1ad5aed2-d56b-47fb-94e4-af763f08be9a",
   "metadata": {},
   "source": [
    "### Below are a few examples of evaluating arithmetic expressions in Python"
   ]
  },
  {
   "cell_type": "code",
   "execution_count": 25,
   "id": "d04d1a74-ce66-454e-81c6-026bca8e2ea8",
   "metadata": {},
   "outputs": [
    {
     "data": {
      "text/plain": [
       "24"
      ]
     },
     "execution_count": 25,
     "metadata": {},
     "output_type": "execute_result"
    }
   ],
   "source": [
    "12 * 2"
   ]
  },
  {
   "cell_type": "code",
   "execution_count": 27,
   "id": "dee17eb8-2842-4622-aa9e-e2ddb4b1b036",
   "metadata": {},
   "outputs": [
    {
     "data": {
      "text/plain": [
       "27"
      ]
     },
     "execution_count": 27,
     "metadata": {},
     "output_type": "execute_result"
    }
   ],
   "source": [
    "12 + 15"
   ]
  }
 ],
 "metadata": {
  "kernelspec": {
   "display_name": "anaconda-ai-2023-11",
   "language": "python",
   "name": "conda-env-anaconda-ai-2023-11-py"
  },
  "language_info": {
   "codemirror_mode": {
    "name": "ipython",
    "version": 3
   },
   "file_extension": ".py",
   "mimetype": "text/x-python",
   "name": "python",
   "nbconvert_exporter": "python",
   "pygments_lexer": "ipython3",
   "version": "3.10.13"
  }
 },
 "nbformat": 4,
 "nbformat_minor": 5
}
